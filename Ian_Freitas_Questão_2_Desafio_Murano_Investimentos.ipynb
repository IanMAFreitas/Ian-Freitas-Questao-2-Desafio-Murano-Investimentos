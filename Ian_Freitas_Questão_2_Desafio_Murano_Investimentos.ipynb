{
  "nbformat": 4,
  "nbformat_minor": 0,
  "metadata": {
    "colab": {
      "name": "Ian Freitas Questão 2 Desafio Murano Investimentos.ipynb",
      "provenance": []
    },
    "kernelspec": {
      "name": "python3",
      "display_name": "Python 3"
    },
    "language_info": {
      "name": "python"
    }
  },
  "cells": [
    {
      "cell_type": "code",
      "metadata": {
        "id": "uRNQgQmUgFJH"
      },
      "source": [
        "def merge_sort(lista):\n",
        "    if len(lista)>1:\n",
        "        meio = len(lista)//2\n",
        "        esquerda = lista[:meio]\n",
        "        direita = lista[meio:]\n",
        "\n",
        "        merge_sort(esquerda)\n",
        "        merge_sort(direita)\n",
        "\n",
        "        i=0\n",
        "        j=0\n",
        "        k=0\n",
        "\n",
        "        while i < len(esquerda) and j < len(direita):\n",
        "            if esquerda[i] < direita[j]:\n",
        "                lista[k]=esquerda[i]\n",
        "                i=i+1\n",
        "            else:\n",
        "                lista[k]=direita[j]\n",
        "                j=j+1\n",
        "            k=k+1\n",
        "\n",
        "        while i < len(esquerda):\n",
        "            lista[k]=esquerda[i]\n",
        "            i=i+1\n",
        "            k=k+1\n",
        "\n",
        "        while j < len(direita):\n",
        "            lista[k]=direita[j]\n",
        "            j=j+1\n",
        "            k=k+1\n",
        "\n",
        "    return lista"
      ],
      "execution_count": 2,
      "outputs": []
    },
    {
      "cell_type": "code",
      "metadata": {
        "id": "2sqBjz1tgHMp"
      },
      "source": [
        "def quick_sort(lista, inicio=0, fim=None):\n",
        "  if fim is None:\n",
        "    fim = len(lista) - 1\n",
        "  if inicio < fim:\n",
        "    p = partition(lista, inicio, fim)\n",
        "    quick_sort(lista, inicio, p-1)\n",
        "    quick_sort(lista, p+1, fim)\n",
        "\n",
        "def partition(lista, inicio, fim):\n",
        "  pivot = lista[fim]\n",
        "  i = inicio\n",
        "\n",
        "  for j in range(inicio, fim):\n",
        "    if lista[j] <= pivot:\n",
        "      lista[j], lista[i] = lista[i], lista[j]\n",
        "      i = i + 1\n",
        "  lista[i], lista[fim] = lista[fim], lista[i]\n",
        "\n",
        "  return i"
      ],
      "execution_count": 3,
      "outputs": []
    },
    {
      "cell_type": "code",
      "metadata": {
        "id": "9HR-Tim6iBHQ"
      },
      "source": [
        "def bubble_sort(lista):\n",
        "  n = len(lista)\n",
        "  for j in range (n-1):\n",
        "    for i in range (n-1):\n",
        "      if lista[i] > lista[i+1]:\n",
        "        lista[i], lista[i+1] = lista[i+1], lista[i]\n",
        "  return lista"
      ],
      "execution_count": 4,
      "outputs": []
    },
    {
      "cell_type": "code",
      "metadata": {
        "id": "FCFC9l2rqlWU"
      },
      "source": [
        "import pandas as pd\n",
        "import matplotlib.pyplot as plt\n",
        "import numpy as np\n",
        "from timeit import timeit\n",
        "\n",
        "N1 = 10**5\n",
        "N2 = 10**7\n",
        "N3 = 10**9\n",
        "\n",
        "lista1 = np.random.random(N1).tolist()\n",
        "lista2 = np.random.random(N2).tolist()\n",
        "lista3 = np.random.random(N3).tolist()\n",
        "\n",
        "quick_sort_time1 = timeit(lambda: quick_sort(lista1), number=1)\n",
        "quick_sort_time2 = timeit(lambda: quick_sort(lista2), number=1)\n",
        "quick_sort_time3 = timeit(lambda: quick_sort(lista3), number=1)\n",
        "quick_sort_times = [quick_sort_time1, quick_sort_time2, quick_sort_time3]\n",
        "\n",
        "merge_sort_time1 = timeit(lambda: merge_sort(lista1), number=1)\n",
        "merge_sort_time2 = timeit(lambda: merge_sort(lista2), number=1)\n",
        "merge_sort_time3 = timeit(lambda: merge_sort(lista3), number=1)\n",
        "merge_sort_times = [merge_sort_time1, merge_sort_time2, merge_sort_time3]\n",
        "\n",
        "bubble_sort_time1 = timeit(lambda: bubble_sort(lista1), number=1)\n",
        "bubble_sort_time2 = timeit(lambda: bubble_sort(lista2), number=1)\n",
        "bubble_sort_time3 = timeit(lambda: bubble_sort(lista3), number=1)\n",
        "bubble_sort_times = [bubble_sort_time1, bubble_sort_time2, bubble_sort_time3]\n",
        "\n",
        "merge_sort_df = pd.DataFrame(merge_sort_times,[N1,N2,N3])\n",
        "plt.scatter(merge_sort_df.values, merge_sort_df.index, color='k', label='Merge Sort')\n",
        "\n",
        "quick_sort_df = pd.DataFrame(quick_sort_times,[N1,N2,N3])\n",
        "plt.scatter(quick_sort_df.values, quick_sort_df.index, color='b', label='Quick Sort')\n",
        "\n",
        "bubble_sort_df = pd.DataFrame(bubble_sort_times,[N1,N2,N3])\n",
        "plt.scatter(bubble_sort_df.values, bubble_sort_df.index, color='r', label='Bubble Sort')\n",
        "\n",
        "plt.title('Algoritmos de Ordenacao x Tempo')\n",
        "plt.xlabel('Tempo [s]')\n",
        "plt.ylabel('Quantidade de Numeros Gerados Aleatoriamente')\n",
        "plt.legend()"
      ],
      "execution_count": null,
      "outputs": []
    }
  ]
}